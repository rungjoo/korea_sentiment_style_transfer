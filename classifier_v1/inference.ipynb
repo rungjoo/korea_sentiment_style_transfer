{
 "cells": [
  {
   "cell_type": "code",
   "execution_count": 32,
   "metadata": {},
   "outputs": [
    {
     "name": "stdout",
     "output_type": "stream",
     "text": [
      "Tue Jul 23 08:01:47 2019       \n",
      "+-----------------------------------------------------------------------------+\n",
      "| NVIDIA-SMI 410.104      Driver Version: 410.104      CUDA Version: 10.0     |\n",
      "|-------------------------------+----------------------+----------------------+\n",
      "| GPU  Name        Persistence-M| Bus-Id        Disp.A | Volatile Uncorr. ECC |\n",
      "| Fan  Temp  Perf  Pwr:Usage/Cap|         Memory-Usage | GPU-Util  Compute M. |\n",
      "|===============================+======================+======================|\n",
      "|   0  Tesla K80           On   | 00000000:00:1E.0 Off |                    0 |\n",
      "| N/A   75C    P0    81W / 149W |   4139MiB / 11441MiB |     51%      Default |\n",
      "+-------------------------------+----------------------+----------------------+\n",
      "                                                                               \n",
      "+-----------------------------------------------------------------------------+\n",
      "| Processes:                                                       GPU Memory |\n",
      "|  GPU       PID   Type   Process name                             Usage      |\n",
      "|=============================================================================|\n",
      "|    0     20530      C   /home/ubuntu/anaconda3/bin/python           2099MiB |\n",
      "|    0     20916      C   python3                                     2027MiB |\n",
      "+-----------------------------------------------------------------------------+\n"
     ]
    }
   ],
   "source": [
    "!nvidia-smi"
   ]
  },
  {
   "cell_type": "code",
   "execution_count": 1,
   "metadata": {},
   "outputs": [
    {
     "data": {
      "text/plain": [
       "BertClassifier(\n",
       "  (fc1): Linear(in_features=768, out_features=128, bias=True)\n",
       "  (fc_drop): Dropout(p=0)\n",
       "  (fc2): Linear(in_features=128, out_features=2, bias=True)\n",
       ")"
      ]
     },
     "execution_count": 1,
     "metadata": {},
     "output_type": "execute_result"
    }
   ],
   "source": [
    "import numpy as np\n",
    "import torch\n",
    "import torch.nn as nn\n",
    "import torch.nn.functional as F\n",
    "import os\n",
    "from itertools import chain\n",
    "from tqdm import tqdm\n",
    "\n",
    "import sys\n",
    "sys.path.insert(0, \"/DATA/joosung/pytorch_pretrained_BERT_master\")\n",
    "from pytorch_pretrained_bert.tokenization import load_vocab\n",
    "from pytorch_bert_embedding import *\n",
    "import torch.optim as optim\n",
    "\n",
    "bert_model, bert_tokenizer = bert_model_load('bert-base-multilingual-cased')\n",
    "vocab_size = 6222\n",
    "\n",
    "vocab = load_vocab('/DATA/joosung/pytorch_pretrained_BERT_master/korea_vocab.txt')\n",
    "device = torch.device(\"cuda:0\" if torch.cuda.is_available() else \"cpu\")\n",
    "gpu_use = True \n",
    "\n",
    "from cls_model import BertClassifier\n",
    "model = BertClassifier(drop_rate=0, gpu=gpu_use)\n",
    "\n",
    "model_name='nodrop/bert_classifier_50000'\n",
    "model.load_state_dict(torch.load('models/{}'.format(model_name)))\n",
    "\n",
    "model = model.to(device)\n",
    "model.eval()"
   ]
  },
  {
   "cell_type": "code",
   "execution_count": 27,
   "metadata": {},
   "outputs": [
    {
     "data": {
      "text/plain": [
       "70.26666666666667"
      ]
     },
     "execution_count": 27,
     "metadata": {},
     "output_type": "execute_result"
    }
   ],
   "source": [
    "# cls_trainer = optim.Adamax(model.cls_params, lr=initial_lr) # initial 0.001\n",
    "# max_grad_norm = 10\n",
    "n_iter = 3000\n",
    "mb_size = 1\n",
    "f = open(\"../../sentiment_data/nsmc-master/ratings_test.txt\", 'r')\n",
    "lines = f.readlines()\n",
    "data_number = len(lines)-1\n",
    "\n",
    "line_number = 0\n",
    "correct = 0\n",
    "for it in range(n_iter):\n",
    "    cls_value_list = []\n",
    "    labels = []\n",
    "\n",
    "    inputsize = 0  # count batch size\n",
    "    while inputsize < mb_size:\n",
    "        line_number = line_number % data_number + 1\n",
    "\n",
    "        input_line = lines[line_number]\n",
    "\n",
    "        input_split = re.split('\\t', input_line)\n",
    "\n",
    "        input_sentence = input_split[1]\n",
    "        input_label = input_split[2].strip()\n",
    "\n",
    "        condition = True\n",
    "        try:\n",
    "            input_label = float(input_label)\n",
    "\n",
    "            if len(input_sentence) < 1 or (len(bert_tokenizer.tokenize(input_sentence))==1 and bert_tokenizer.tokenize(input_sentence)[0]=='[UNK]'):\n",
    "                condition = False\n",
    "            else:\n",
    "                condition = True\n",
    "        except:\n",
    "            condition = False        \n",
    "\n",
    "        if condition:\n",
    "            if input_label == 0:\n",
    "                input_label = [1, 0]\n",
    "            else:\n",
    "                input_label = [0, 1]\n",
    "            labels.append(input_label)\n",
    "\n",
    "            output_bert = embedding(input_sentence, bert_model, bert_tokenizer)            \n",
    "\n",
    "            cls_value_emb = np.asarray(output_bert['features'][0]['layers'][0]['values']) # [CLS] token\n",
    "            cls_value_emb = torch.from_numpy(cls_value_emb) # (768)\n",
    "            cls_value_emb = cls_value_emb.unsqueeze(0) # (1, 768)    \n",
    "            cls_value_list.append(cls_value_emb)\n",
    "\n",
    "            inputsize += 1\n",
    "\n",
    "    gt = torch.from_numpy(np.asarray(labels)).type(torch.FloatTensor).to(device) # (batch, 2)\n",
    "    cls_input = torch.cat(cls_value_list).type(torch.FloatTensor).to(device) # (batch, 768)\n",
    "\n",
    "    cls_out = model.classifier(cls_input) # (batch, 2)\n",
    "    \n",
    "    if cls_out.argmax(1).item() == input_label.index(1):\n",
    "        correct+=1\n",
    "    \n",
    "correct/n_iter * 100"
   ]
  },
  {
   "cell_type": "code",
   "execution_count": 23,
   "metadata": {},
   "outputs": [
    {
     "data": {
      "text/plain": [
       "1"
      ]
     },
     "execution_count": 23,
     "metadata": {},
     "output_type": "execute_result"
    }
   ],
   "source": [
    "input_label.index(1)"
   ]
  },
  {
   "cell_type": "code",
   "execution_count": 14,
   "metadata": {},
   "outputs": [
    {
     "data": {
      "text/plain": [
       "tensor([1, 1], device='cuda:0')"
      ]
     },
     "execution_count": 14,
     "metadata": {},
     "output_type": "execute_result"
    }
   ],
   "source": [
    "cls_out.argmax(1)"
   ]
  },
  {
   "cell_type": "code",
   "execution_count": 2,
   "metadata": {},
   "outputs": [
    {
     "ename": "NameError",
     "evalue": "name 'cls_out' is not defined",
     "output_type": "error",
     "traceback": [
      "\u001b[0;31m---------------------------------------------------------------------------\u001b[0m",
      "\u001b[0;31mNameError\u001b[0m                                 Traceback (most recent call last)",
      "\u001b[0;32m<ipython-input-2-7419f9329699>\u001b[0m in \u001b[0;36m<module>\u001b[0;34m()\u001b[0m\n\u001b[1;32m      1\u001b[0m \u001b[0;32mimport\u001b[0m \u001b[0mtorch\u001b[0m\u001b[0;34m.\u001b[0m\u001b[0mnn\u001b[0m\u001b[0;34m.\u001b[0m\u001b[0mfunctional\u001b[0m \u001b[0;32mas\u001b[0m \u001b[0mF\u001b[0m\u001b[0;34m\u001b[0m\u001b[0m\n\u001b[0;32m----> 2\u001b[0;31m \u001b[0mF\u001b[0m\u001b[0;34m.\u001b[0m\u001b[0mrelu\u001b[0m\u001b[0;34m(\u001b[0m\u001b[0mcls_out\u001b[0m\u001b[0;34m)\u001b[0m\u001b[0;34m\u001b[0m\u001b[0m\n\u001b[0m",
      "\u001b[0;31mNameError\u001b[0m: name 'cls_out' is not defined"
     ]
    }
   ],
   "source": [
    "import torch.nn.functional as F\n",
    "F.relu(cls_out)"
   ]
  },
  {
   "cell_type": "code",
   "execution_count": null,
   "metadata": {},
   "outputs": [],
   "source": []
  }
 ],
 "metadata": {
  "kernelspec": {
   "display_name": "Python 3",
   "language": "python",
   "name": "python3"
  },
  "language_info": {
   "codemirror_mode": {
    "name": "ipython",
    "version": 3
   },
   "file_extension": ".py",
   "mimetype": "text/x-python",
   "name": "python",
   "nbconvert_exporter": "python",
   "pygments_lexer": "ipython3",
   "version": "3.6.5"
  }
 },
 "nbformat": 4,
 "nbformat_minor": 2
}
