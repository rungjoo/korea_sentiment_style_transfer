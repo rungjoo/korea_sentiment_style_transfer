{
 "cells": [
  {
   "cell_type": "code",
   "execution_count": 1,
   "metadata": {},
   "outputs": [
    {
     "data": {
      "text/plain": [
       "BertClassifier(\n",
       "  (fc1): Linear(in_features=768, out_features=128, bias=True)\n",
       "  (fc_drop): Dropout(p=0)\n",
       "  (fc2): Linear(in_features=128, out_features=2, bias=True)\n",
       ")"
      ]
     },
     "execution_count": 1,
     "metadata": {},
     "output_type": "execute_result"
    }
   ],
   "source": [
    "import numpy as np\n",
    "import torch\n",
    "import torch.nn as nn\n",
    "import torch.nn.functional as F\n",
    "import os\n",
    "from itertools import chain\n",
    "from tqdm import tqdm\n",
    "\n",
    "import sys\n",
    "sys.path.insert(0, \"/DATA/joosung/pytorch_pretrained_BERT_master\")\n",
    "from pytorch_pretrained_bert.tokenization import load_vocab\n",
    "from pytorch_bert_embedding import *\n",
    "import torch.optim as optim\n",
    "\n",
    "bert_model, bert_tokenizer = bert_model_load('bert-base-multilingual-cased')\n",
    "vocab_size = 6222\n",
    "\n",
    "vocab = load_vocab('/DATA/joosung/pytorch_pretrained_BERT_master/korea_vocab.txt')\n",
    "device = torch.device(\"cuda:0\" if torch.cuda.is_available() else \"cpu\")\n",
    "gpu_use = True \n",
    "\n",
    "from cls_model import BertClassifier\n",
    "model = BertClassifier(drop_rate=0, gpu=gpu_use)\n",
    "\n",
    "model_name='nodrop/bert_classifier_50000'\n",
    "model.load_state_dict(torch.load('models/{}'.format(model_name)))\n",
    "\n",
    "model = model.to(device)\n",
    "model.eval()"
   ]
  },
  {
   "cell_type": "code",
   "execution_count": 6,
   "metadata": {},
   "outputs": [
    {
     "name": "stdout",
     "output_type": "stream",
     "text": [
      "1.0\n",
      "0.0\n",
      "0.0\n",
      "0.0\n",
      "0.0\n",
      "1.0\n",
      "0.0\n",
      "0.0\n",
      "0.0\n",
      "1.0\n"
     ]
    },
    {
     "data": {
      "text/plain": [
       "0.016"
      ]
     },
     "execution_count": 6,
     "metadata": {},
     "output_type": "execute_result"
    }
   ],
   "source": [
    "mb_size = 1\n",
    "f = open(\"../../sentiment_data/nsmc-master/ratings_test.txt\", 'r')\n",
    "lines = f.readlines()\n",
    "data_number = len(lines)-1\n",
    "n_iter = data_number\n",
    "\n",
    "line_number = 0\n",
    "correct = 0\n",
    "for it in range(10):\n",
    "    cls_value_list = []\n",
    "    labels = []\n",
    "\n",
    "    inputsize = 0  # count batch size\n",
    "    while inputsize < mb_size:\n",
    "        line_number = line_number % data_number + 1\n",
    "\n",
    "        input_line = lines[line_number]\n",
    "\n",
    "        input_split = re.split('\\t', input_line)\n",
    "\n",
    "        input_sentence = input_split[1]\n",
    "        input_label = input_split[2].strip()\n",
    "\n",
    "        condition = True\n",
    "        try:\n",
    "            input_label = float(input_label)\n",
    "\n",
    "            if len(input_sentence) < 1 or (len(bert_tokenizer.tokenize(input_sentence))==1 and bert_tokenizer.tokenize(input_sentence)[0]=='[UNK]'):\n",
    "                condition = False\n",
    "            else:\n",
    "                condition = True\n",
    "        except:\n",
    "            condition = False        \n",
    "\n",
    "        if condition:        \n",
    "            c = input_label\n",
    "            if int(input_label) == 0:\n",
    "                print(input_label)\n",
    "                input_label = [1, 0]\n",
    "            else:\n",
    "                print(input_label)\n",
    "                input_label = [0, 1]\n",
    "            labels.append(input_label)\n",
    "\n",
    "            output_bert = embedding(input_sentence, bert_model, bert_tokenizer)            \n",
    "\n",
    "            cls_value_emb = np.asarray(output_bert['features'][0]['layers'][0]['values']) # [CLS] token\n",
    "            cls_value_emb = torch.from_numpy(cls_value_emb) # (768)\n",
    "            cls_value_emb = cls_value_emb.unsqueeze(0) # (1, 768)    \n",
    "            cls_value_list.append(cls_value_emb)\n",
    "\n",
    "            inputsize += 1\n",
    "#             print(input_sentence)\n",
    "\n",
    "    gt = torch.from_numpy(np.asarray(labels)).type(torch.FloatTensor).to(device) # (batch, 2)\n",
    "    cls_input = torch.cat(cls_value_list).type(torch.FloatTensor).to(device) # (batch, 768)\n",
    "\n",
    "    cls_out = model.classifier(cls_input) # (batch, 2)\n",
    "    \n",
    "    if cls_out.argmax(1).item() == input_label.index(1):\n",
    "        correct+=1\n",
    "    \n",
    "correct/n_iter * 100"
   ]
  },
  {
   "cell_type": "code",
   "execution_count": 7,
   "metadata": {},
   "outputs": [
    {
     "data": {
      "text/plain": [
       "1.0"
      ]
     },
     "execution_count": 7,
     "metadata": {},
     "output_type": "execute_result"
    }
   ],
   "source": [
    "c"
   ]
  },
  {
   "cell_type": "code",
   "execution_count": null,
   "metadata": {},
   "outputs": [],
   "source": []
  }
 ],
 "metadata": {
  "kernelspec": {
   "display_name": "Python 3",
   "language": "python",
   "name": "python3"
  },
  "language_info": {
   "codemirror_mode": {
    "name": "ipython",
    "version": 3
   },
   "file_extension": ".py",
   "mimetype": "text/x-python",
   "name": "python",
   "nbconvert_exporter": "python",
   "pygments_lexer": "ipython3",
   "version": "3.6.5"
  }
 },
 "nbformat": 4,
 "nbformat_minor": 2
}
